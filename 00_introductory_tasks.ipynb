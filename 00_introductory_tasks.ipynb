{
 "cells": [
  {
   "cell_type": "markdown",
   "metadata": {
    "id": "Ag6rf9EZTm3J"
   },
   "source": [
    "---\n",
    "\n",
    "# Задание 1. \n",
    "\n",
    "Пришло время написать свою первую программу в ячейке ниже. Вы можете попробовать решить сейчас, или просмотреть обучающий материал до конца. \n",
    "\n",
    "Условие почти такое же, как у рассмотренного выше примера. Требуется определить количество рабочих часов четырех сотрудников работающих по графику 2 через 2 по 12 часов. Первый работник приступает к работе первого числа, второй - второго, третий - третьего, а четвертый - четвертого. Рассматриваемый период - февраль. Праздники отсутствуют. \n",
    "\n",
    "Результатом выполнения кода должна быть информация о том, сколько часов каждый из сотрудников отработал за месяц, а также общее количество отработанных часов.\n",
    "\n",
    "*Рекомендация: Существет множество верных решений поставленной задачи. Не обязательно следовать приведенному выше решению. Проявите креативность!*\n",
    "\n",
    "---"
   ]
  },
  {
   "cell_type": "code",
   "execution_count": 6,
   "metadata": {
    "id": "Yp-QJPZgTm3J"
   },
   "outputs": [
    {
     "name": "stdout",
     "output_type": "stream",
     "text": [
      "Год високосный? [y/n] y\n",
      "1 рабочий отработал: 180 часов\n",
      "2 рабочий отработал: 168 часов\n",
      "3 рабочий отработал: 168 часов\n",
      "4 рабочий отработал: 168 часов\n",
      "Общая выработка: 684 часов\n"
     ]
    }
   ],
   "source": [
    "import pandas as pd\n",
    "import numpy as np\n",
    "from timeit import timeit\n",
    "import math\n",
    "import sys\n",
    "\n",
    "\"\"\"Решение задания 1\"\"\"\n",
    "def work_hours(day, leap):\n",
    "    day_at_work=0\n",
    "    work = 2\n",
    "    relax = 2\n",
    "    while (day <= 28 + leap):\n",
    "        while (work > 0 and work <=2 and day <= 28 + leap):\n",
    "            day_at_work += 1\n",
    "            day +=1\n",
    "            work -=1\n",
    "            relax = work + 2\n",
    "        while (relax > 0 and relax <=2 and day <= 28 + leap):\n",
    "            day +=1\n",
    "            relax -=1\n",
    "            work=relax + 2\n",
    "    return(day_at_work*12)\n",
    "\n",
    "answer = input (\"Год високосный? [y/n] \")\n",
    "res=0\n",
    "if answer == 'y':\n",
    "    leap = 1\n",
    "elif answer == 'n':\n",
    "    leap = 0\n",
    "else:\n",
    "    sys.exit(\"Ошибка ввода\")\n",
    "for i in range(1, 5, 1):\n",
    "    print( str(i) + \" рабочий отработал: \" + str(work_hours(i, leap)) + \" часов\")\n",
    "    res+=work_hours(i, leap)\n",
    "print (\"Общая выработка: \" + str(res) + \" часов\")"
   ]
  },
  {
   "cell_type": "markdown",
   "metadata": {
    "id": "xPMxMzo4Tm3N"
   },
   "source": [
    "---\n",
    "\n",
    "# Задание 2. \n",
    "\n",
    "Написать мини-программу: при вводе - кол-во секунд вывод - недели, дни, часы, минуты, секунды\n",
    "\n",
    "---"
   ]
  },
  {
   "cell_type": "code",
   "execution_count": 7,
   "metadata": {
    "id": "gOy_LQPrTm3O"
   },
   "outputs": [
    {
     "name": "stdout",
     "output_type": "stream",
     "text": [
      "Введите общее количество секунд: 1\n",
      "недель: 0\n",
      "дней: 0\n",
      "часов: 0\n",
      "минут: 0\n",
      "секунд: 1\n"
     ]
    }
   ],
   "source": [
    "\"\"\"Решение задания 2\"\"\"\n",
    "\n",
    "def time_metric_up(time, metric): # Создание функции начинается с def, затем следует название и в скобках \n",
    "                                  # входная информация, в конце ставится двоеточие\n",
    "    \"\"\"Параметры функции time_metric_up():\n",
    "        time - целое число, количество переводимого на уровень вверх времени;\n",
    "        metric - строка, показывает текущую единицу измерения времени.\n",
    "       Допустимые значения для параматра metric:\n",
    "           's' - секунды\n",
    "           'm' - минуты\n",
    "           'h' - часы\n",
    "           'd' - дни\n",
    "       Функция возвращает два значения:\n",
    "           первое значение - целое значение единиц времени после повышения уровня\n",
    "           второе значение - остаток времени в изначальных единицах измерения\"\"\"\n",
    "    \n",
    "    # Нам необходимо определить делитель. Для этого воспользуемся конструкцией \"если -> то\":\n",
    "    if metric == 'h':            # если единица измерения - часы,\n",
    "        x = 24                   # то делитель равен 24,\n",
    "    elif metric == 'd':          # иначе, если единица измерения - дни,\n",
    "        x = 7                    # то делитель равен 7,\n",
    "    else:                        # иначе\n",
    "        x = 60                   # делитель равен 60\n",
    "    return time // x, time % x   # возвращаем результаты вычислений\n",
    "\n",
    "s = int(input('Введите общее количество секунд: ')) # опять вводим 987654321\n",
    "m, s = time_metric_up(s, 's')\n",
    "h, m = time_metric_up(m, 'm')\n",
    "d, h = time_metric_up(h, 'h')\n",
    "w, d = time_metric_up(d, 'd')\n",
    "print('недель:', w)\n",
    "print('дней:', d)\n",
    "print('часов:', h)\n",
    "print('минут:', m)\n",
    "print('секунд:', s)"
   ]
  },
  {
   "cell_type": "markdown",
   "metadata": {
    "id": "ii-tmeSpTm3P"
   },
   "source": [
    "---\n",
    "\n",
    "# Задание 3.\n",
    "\n",
    "Напишите функцию *time_metric_down(time, metric, metric_down)*, которая на вход принимает три значения:\n",
    "- time - количество единиц времени, целое число;\n",
    "- metric - единица измерения времени ('w', 'd', 'h', 'm');\n",
    "- metric_down - в какой единице измерения необходимо получить результат ('d', 'h', 'm', 's');\n",
    "\n",
    "В этой задаче metric_down является меньшей единицей измерения, чем metric.\n",
    "\n",
    "Пример реализации функции:\n",
    "\n",
    "*time_metric_down(10, 'h', 's')*\n",
    "\n",
    "*>>> 36000*\n",
    "\n",
    "Т.е. в 10 часах содержится 36000 секунд.\n",
    "\n",
    "---"
   ]
  },
  {
   "cell_type": "code",
   "execution_count": 8,
   "metadata": {
    "id": "dJYZLkcQTm3P"
   },
   "outputs": [],
   "source": [
    "\"\"\"Решение задания 3\"\"\"\n",
    "\n",
    "def time_metric_down(time, metric, metric_down):\n",
    "    if metric == \"w\":\n",
    "        if metric_down == \"d\":\n",
    "            return(time*7)\n",
    "        elif metric_down == \"h\":\n",
    "            return(time*7*24)\n",
    "        elif metric_down == \"m\":\n",
    "            return(time*7*24*60)\n",
    "        elif metric_down == \"s\":\n",
    "            return(time*7*24*60*60)\n",
    "        else:\n",
    "            return(\"Неправильный ввод!\")\n",
    "    elif metric == \"d\":\n",
    "        if metric_down == \"h\":\n",
    "            return(time*24)\n",
    "        elif metric_down == \"m\":\n",
    "            return(time*24*60)\n",
    "        elif metric_down == \"s\":\n",
    "            return(time*24*60*60)\n",
    "        else:\n",
    "            return(\"Неправильный ввод!\")\n",
    "    elif metric == \"h\":\n",
    "        if metric_down == \"m\":\n",
    "            return(time*60)\n",
    "        elif metric_down == \"s\":\n",
    "            return(time*60*60)\n",
    "        else:\n",
    "            return(\"Неправильный ввод!\")\n",
    "    elif metric == \"m\":\n",
    "        if metric_down == \"s\":\n",
    "            return(time*60)\n",
    "        else:\n",
    "            return(\"Неправильный ввод!\")\n",
    "    else:\n",
    "        return(\"Неправильный ввод!\")"
   ]
  },
  {
   "cell_type": "markdown",
   "metadata": {
    "id": "uECTPbOhTm3Q"
   },
   "source": [
    "---\n",
    "\n",
    "Для проверки правильности решения, запустите код в ячейке ниже"
   ]
  },
  {
   "cell_type": "code",
   "execution_count": 9,
   "metadata": {
    "id": "xJ4mMTuXTm3Q"
   },
   "outputs": [
    {
     "name": "stdout",
     "output_type": "stream",
     "text": [
      "Ошибки не выявлены\n"
     ]
    }
   ],
   "source": [
    "if (time_metric_down(10, 'h', 's') == 36000 and time_metric_down(1, 'w', 'd') == 7 and \n",
    "    time_metric_down(1, 'w', 'h') == 168 and time_metric_down(1, 'w', 'm') == 10080 and \n",
    "    time_metric_down(1, 'w', 's') == 604800):\n",
    "    print('Ошибки не выявлены')\n",
    "else:\n",
    "    print('Выявлены ошибки')"
   ]
  },
  {
   "cell_type": "markdown",
   "metadata": {
    "id": "WqDmKz8kTm3d"
   },
   "source": [
    "---\n",
    "\n",
    "# Задание 4\n",
    "\n",
    "Требуется написать код, который высчитывает минимальное требуемое количество сотрудников, выполняющих однотипную работу, в предположении, что все сотрудники единовременно выполняют одну единицу работы за одинаковое время и без перерывов. Код должен состоять из пользовательской функции, выполняющей все расчеты, и запроса информации от пользователей.\n",
    "\n",
    "Общий принцип работы кода:\n",
    "1. От пользователя последовательно запрашивается информация:\n",
    "    - *workers* - количество сотрудников, которые уже выполняют задачи;\n",
    "    - *tasks* - количество задач, которые нужно выполнить;\n",
    "    - *time* - время, за которое выполняется одна задача (все задачи выполняются за равное количество времени);\n",
    "    - *overall_time* - время, в которое нужно уложиться при выполнении задач.\n",
    "\n",
    "  Эти же данные передаются в функцию *new_workers()*.\n",
    "2. Функции *new_workers()* передается вся полученная информация.\n",
    "3. Функция *new_workers()* производит расчеты и возвращает минимальное количество сотрудников для выполнения всех задач за заданное время *overall_time*.\n",
    "4. На экран выводится результат *new_workers()*.\n",
    "\n",
    "---\n",
    "\n",
    "Пример выполнения:\n",
    "\n",
    "Вводится следующая информация:\n",
    "\n",
    "- *workers = 3*\n",
    "- *tasks = 6* \n",
    "- *time = 2* \n",
    "- *overall_time = 3*\n",
    "\n",
    "Вывод:\n",
    "\n",
    "*new_workers = 3*\n",
    "\n",
    "Пояснение:\n",
    "\n",
    "Сейчас у нас есть 3 работника, то есть параллельно мы можем выполнять максимум 3 задачи. Каждая задача занимает 2 единицы времени. Чтобы выполнить 6 задач за 3 единицы времени, нам придется распараллелить их все сразу, т.е. нанять еще троих работников.\n",
    "\n",
    "---\n",
    "\n",
    "*Примечание: вводиться должны иcключительно целые положительные числа!*"
   ]
  },
  {
   "cell_type": "code",
   "execution_count": 10,
   "metadata": {
    "id": "bWoPglEB03x6"
   },
   "outputs": [
    {
     "name": "stdout",
     "output_type": "stream",
     "text": [
      "Сколько сотрудников уже работают? 1\n",
      "Сколько заданий нужно выполнить? 1\n",
      "Сколько нужно времени, чтобы выполнить одну задачу? 1\n",
      "За сколько по времени нужно все сделать? 1\n",
      "new_workers = None\n"
     ]
    }
   ],
   "source": [
    "\"\"\"Решение задания 4\"\"\"\n",
    "\n",
    "def new_workers(workers, tasks, time, overall_time):\n",
    "    if(workers<=0 or tasks<=0 or time <=0 or overall_time <= 0):\n",
    "        sys.exit(\"Ошибка ввода\")\n",
    "    if (overall_time < time):\n",
    "        sys.exit(\"Решение невозможно\")\n",
    "    task_for_1worker = overall_time//time\n",
    "    res = math.ceil(tasks//task_for_1worker) - workers\n",
    "    if (res <=0):\n",
    "        return\n",
    "    return(math.ceil(tasks//task_for_1worker) - workers)\n",
    "workers = int(input (\"Сколько сотрудников уже работают? \"))\n",
    "tasks = int(input (\"Сколько заданий нужно выполнить? \"))\n",
    "time = int(input (\"Сколько нужно времени, чтобы выполнить одну задачу? \"))\n",
    "overall_time = int(input (\"За сколько по времени нужно все сделать? \"))\n",
    "print(\"new_workers = \" + str(new_workers(workers, tasks, time, overall_time))) "
   ]
  }
 ],
 "metadata": {
  "colab": {
   "collapsed_sections": [],
   "name": "d00_task.ipynb",
   "provenance": []
  },
  "kernelspec": {
   "display_name": "Python 3 (ipykernel)",
   "language": "python",
   "name": "python3"
  },
  "language_info": {
   "codemirror_mode": {
    "name": "ipython",
    "version": 3
   },
   "file_extension": ".py",
   "mimetype": "text/x-python",
   "name": "python",
   "nbconvert_exporter": "python",
   "pygments_lexer": "ipython3",
   "version": "3.7.0"
  }
 },
 "nbformat": 4,
 "nbformat_minor": 1
}
