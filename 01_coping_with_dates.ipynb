{
 "cells": [
  {
   "cell_type": "markdown",
   "metadata": {
    "id": "AeV1bOHvRJP5"
   },
   "source": [
    "# day01 - Трудно жить без даты!\n",
    "\n",
    "---"
   ]
  },
  {
   "cell_type": "code",
   "execution_count": 2,
   "metadata": {
    "executionInfo": {
     "elapsed": 701,
     "status": "ok",
     "timestamp": 1647867865040,
     "user": {
      "displayName": "Иван Романов",
      "photoUrl": "https://lh3.googleusercontent.com/a/default-user=s64",
      "userId": "05119643280596747163"
     },
     "user_tz": -180
    },
    "id": "qIW6Sa8cRJP9"
   },
   "outputs": [],
   "source": [
    "import pandas as pd\n",
    "import numpy as np\n",
    "import math\n",
    "from datetime import datetime, timedelta, date, time\n",
    "import sys"
   ]
  },
  {
   "cell_type": "markdown",
   "metadata": {
    "id": "XnFW9R_VRJQA"
   },
   "source": [
    "---\n",
    "\n",
    "# Задание 1\n",
    "\n",
    "Поздравить знакомого с Днем Рождения коротким сообщением для большинства из нас не составляет труда. С другой стороны проявленный акт внимания создает хорошее настроение и сохраняет социальные связи. Напишите код, который определяет дату рождения в игровой форме.  \n",
    "Пример:\n",
    "Один человек выясняет у другого дату рождения:\n",
    "   - У тебя День рождения в июне?\n",
    "   - Раньше.\n",
    "   - В апреле?\n",
    "   - Да.\n",
    "   - 15-го числа?\n",
    "   - Позже.\n",
    "   - 20-го?\n",
    "   - Да.\n",
    "   - У тебя День Рождения 20 апреля\n",
    "   \n",
    "Механизм взаимодействия:\n",
    "1. Функция get_month() формирует запросы к функции month_of_birth(month)\n",
    "2. Функция month_of_birth(month, m_o_b = number_of_month) проверяет month == m_o_b:\n",
    "  - Если равны, то функция возвращает значение 'да'\n",
    "  - Если month > m_o_b, то значение 'раньше'\n",
    "  - Если month < m_o_b, то значение 'позже'\n",
    "3. Как только получено значение 'да', get_month() прекращает работу и возвращает значение полученного month, переведенного в название месяца\n",
    "4. Функция get_day() формирует запросы к функции day_of_birth(day)\n",
    "5. Функция day_of_birth(day, d_o_b = number_of_day) проверяет day == d_o_b:\n",
    "    - Если равны, то функция возвращает значение 'да'\n",
    "    - Если day > d_o_b, то значение 'раньше'\n",
    "    - Если day < d_o_b, то значение 'позже'\n",
    "6. Как только получено значение 'да', get_day() прекращает работу и возвращает значение полученного day\n",
    "7. Публикация результата в формате \"число месяц\", например, 20 апреля\n",
    "Вам нужно написать код так, чтобы, поменявшись функциями get, вам не пришлось редактировать код для его выполнения. Постарайтесь разработать алгоритм, чтобы общее число запросов не превышало 10.\n",
    "\n",
    "*Рекомендация: Для того, чтобы точно были совместимы возвращаемые функциями ответы, лучше принудительно приводить строку к строчным буквам и без пробелов. Для этого используйте следующий код:*\n",
    "\n",
    "***s = s.lower().replace(' ', '')*** *здесь s - это строка, требующая изменений*\n",
    "\n",
    "Дополнительная информация по работе со строковыми переменными:\n",
    "\n",
    "[Официальная документация](https://docs.python.org/3/library/stdtypes.html#text-sequence-type-str)\n",
    "\n",
    "[Справочник основных функций на русском языке](https://pythonworld.ru/tipy-dannyx-v-python/stroki-funkcii-i-metody-strok.html)\n",
    "\n",
    "---"
   ]
  },
  {
   "cell_type": "code",
   "execution_count": 1,
   "metadata": {
    "id": "_In5W13NRJQC"
   },
   "outputs": [
    {
     "name": "stdout",
     "output_type": "stream",
     "text": [
      "Месяц твоего рождения - июнь? Ответь: да, раньше, позже. Твой ответ: да\n",
      "День твоего рождения - 16? Ответь: да, раньше, позже. Твой ответ: раньше\n",
      "День твоего рождения - 8? Ответь: да, раньше, позже. Твой ответ: раньше\n",
      "День твоего рождения - 4? Ответь: да, раньше, позже. Твой ответ: нет\n",
      "Некорректный ввод!\n",
      "День твоего рождения - 4? Ответь: да, раньше, позже. Твой ответ: позже\n",
      "День твоего рождения - 6? Ответь: да, раньше, позже. Твой ответ: да\n"
     ]
    },
    {
     "data": {
      "text/plain": [
       "'Месяц твоего рождения - июнь, а день - 6'"
      ]
     },
     "execution_count": 1,
     "metadata": {},
     "output_type": "execute_result"
    }
   ],
   "source": [
    "\"\"\"Решение задания 1\"\"\"\n",
    "\n",
    "def month_of_birth():\n",
    "    arr_month=['январь', 'февраль', 'март', 'апрель', 'май', 'июнь', 'июль', 'август', 'сентябрь', 'октябрь', 'ноябрь', 'декабрь']\n",
    "    low = 0\n",
    "    high = len(arr_month)-1\n",
    "    while (low <= high):\n",
    "        mid = (low + high)//2\n",
    "        value=str(input(\"Месяц твоего рождения - \" + str(arr_month[mid]) + \"? Ответь: да, раньше, позже. Твой ответ: \"))\n",
    "        if (value == 'да'):\n",
    "            return (arr_month[mid])\n",
    "        elif (value == 'позже'):\n",
    "            low = mid +1\n",
    "        elif (value == 'раньше'):\n",
    "            high = mid - 1\n",
    "        else:\n",
    "            print(\"Некорректный ввод! Ответь заново корректно\")\n",
    "    return (-1)\n",
    "\n",
    "def day_of_birth():\n",
    "    arr=[]\n",
    "    for i in range (1, 32):\n",
    "        arr.append(i)\n",
    "    low = 0\n",
    "    high = len(arr)-1\n",
    "    while (low <= high):\n",
    "        mid = (low + high)//2\n",
    "        value=str(input(\"День твоего рождения - \" + str(arr[mid]) + \"? Ответь: да, раньше, позже. Твой ответ: \"))\n",
    "        if (value == 'да'):\n",
    "            return (arr[mid])\n",
    "        elif (value == 'позже'):\n",
    "            low = mid +1\n",
    "        elif (value == 'раньше'):\n",
    "            high = mid - 1\n",
    "        else:\n",
    "            print(\"Некорректный ввод!\")\n",
    "    return (-1)\n",
    "\n",
    "def birthday():\n",
    "    month = month_of_birth()\n",
    "    if (month == -1):\n",
    "        print(\"Будь внимательнее и не совершай логических ошибок при ответе!\")\n",
    "        month = month_of_birth()\n",
    "    day = day_of_birth()\n",
    "    if (day == -1):\n",
    "        print(\"Будь внимательнее и не совершай логических ошибок при ответе!\")\n",
    "        day = day_of_birth()\n",
    "    if (month == 'февраль' and (day == 30 or day == 31)):\n",
    "        print(\"Ты не мог родиться в такую дату, начинай сначала!\")\n",
    "        birthday()\n",
    "    else:\n",
    "        return(\"Месяц твоего рождения - \" + str(month) + \", а день - \" + str(day))\n",
    "    \n",
    "birthday()"
   ]
  },
  {
   "cell_type": "markdown",
   "metadata": {
    "id": "68inDQGJRJQH"
   },
   "source": [
    "---\n",
    "\n",
    "# Задание 2\n",
    "\n",
    "Требуется написать код, рассчитывающий количество рабочих часов с использованием методов модуля datetime.\n",
    "Требования к коду:\n",
    "1. Написать функцию *input_date()*, которая запрашивает у пользователя диапазон дат, на котором считается рабочее время. Граничные даты включаются в расчет. Функция возвращает две переменные с датами *start_date, end_date*.\n",
    "2. Написать функцию *date_to_datetime(start_date, end_date)*, которая преобразует даты в формат datetime. Функция возвращает переменные *start_date, end_date*, преобразованные к формату datetime.\n",
    "3. Написать функцию *delta_time(start_date, end_date)*, которая рассчитывает разницу во времени. По результату работы функции, в переменную *delta* функции, которая вызвала delta_time, должно быть записано общее количество оцениваемых дней.\n",
    "4. Написать функцию *day_of_the_week(start_date)*, которая возвращает номер дня недели, соответствующий началу оцениваемого периода, в переменную *start_day_of_the_week*.\n",
    "5. Написать функцию *calculating_hours(start_day_of_the_week, delta)*, которая возвращает количество рабочих часов за указанный период (и, таким образом, является точкой входа в нашу программу).\n",
    "6. Сформировать тестовые данные и протестировать программу.\n",
    "\n",
    "Упрощения:\n",
    "1. Пятидневная рабочая неделя, суббота и воскресенье - выходные;\n",
    "2. Каждый день отрабатывается ровно 8 часов;\n",
    "3. Праздники, отгулы, отпуска и больничные отсутствуют"
   ]
  },
  {
   "cell_type": "code",
   "execution_count": 13,
   "metadata": {
    "id": "wpgC_lciRJQI"
   },
   "outputs": [
    {
     "name": "stdout",
     "output_type": "stream",
     "text": [
      "Когда работник выходит на работу? Введите дату в формате: %Y-%m-%d 2021-01-22\n",
      "Когда работник увольняется? Введите дату в формате: %Y-%m-%d 2021-04-25\n"
     ]
    },
    {
     "data": {
      "text/plain": [
       "752"
      ]
     },
     "execution_count": 13,
     "metadata": {},
     "output_type": "execute_result"
    }
   ],
   "source": [
    "\"\"\"Решение задания 2\"\"\"\n",
    "\n",
    "def input_date():\n",
    "    start_date=str(input(\"Когда работник выходит на работу? Введите дату в формате: %Y-%m-%d \"))\n",
    "    while True:\n",
    "        try:\n",
    "            start_date = datetime.strptime(start_date, '%Y-%m-%d') # Распознаем из строки дату и время \n",
    "            break\n",
    "        except ValueError:\n",
    "            start_date=str(input(\"Следи за форматом и не ломай мой код! Введите дату в формате: %Y-%m-%d \"))\n",
    "    end_date=str(input(\"Когда работник увольняется? Введите дату в формате: %Y-%m-%d \"))\n",
    "    while True:\n",
    "        try:\n",
    "            end_date = datetime.strptime(end_date, '%Y-%m-%d')\n",
    "            break\n",
    "        except ValueError:\n",
    "            end_date=str(input(\"Следи за форматом и не ломай мой код! Введите дату в формате: %Y-%m-%d \"))\n",
    "    return(start_date, end_date)\n",
    "    \n",
    "def delta_time(start_date, end_date):\n",
    "    while ((end_date-start_date).days < 0):\n",
    "        sys.exit(\"Некорректный ввод!\")\n",
    "    if ((end_date-start_date).days >= 0):\n",
    "        delta=end_date-start_date\n",
    "    return(delta)\n",
    "    \n",
    "\n",
    "def day_of_the_week(start_date, end_date):\n",
    "    start_day_of_the_week=start_date.strftime(\"%A\")\n",
    "    end_day_of_the_week=end_date.strftime(\"%A\")\n",
    "    return(start_day_of_the_week, end_day_of_the_week)\n",
    "\n",
    "def calculating_hours(start_day_of_the_week, delta, end_day_of_the_week):\n",
    "    weekends=0\n",
    "    if (delta.days+1 == 1):\n",
    "        if (end_day_of_the_week != 'Saturday' and end_day_of_the_week != 'Sunday'):\n",
    "            return(8)\n",
    "        elif (end_day_of_the_week == 'Saturday' or end_day_of_the_week == 'Sunday'):\n",
    "            return(0)\n",
    "    elif (delta.days + 1 < 7):\n",
    "        if (end_day_of_the_week == 'Saturday'):\n",
    "            weekends=1\n",
    "        elif (end_day_of_the_week == 'Sunday'):\n",
    "            weekends=2   \n",
    "    elif ((delta.days + 1) % 7 == 0):\n",
    "        weekends=((delta.days + 1) // 7)*2\n",
    "    else:\n",
    "        if ((end_day_of_the_week != 'Saturday' and end_day_of_the_week != 'Sunday') and (start_day_of_the_week != 'Saturday' and start_day_of_the_week != 'Sunday')):\n",
    "            weekends=((delta.days + 1) // 7)*2\n",
    "        elif (start_day_of_the_week == 'Saturday'):\n",
    "            if (end_day_of_the_week != 'Saturday'):\n",
    "                weekends=((delta.days + 1) // 7)*2 + 2\n",
    "            elif (end_day_of_the_week == 'Saturday'):\n",
    "                weekends=((delta.days + 1) // 7)*2 + 1\n",
    "        elif (start_day_of_the_week == 'Sunday'):\n",
    "            if (end_day_of_the_week != 'Saturday'):\n",
    "                weekends=((delta.days + 1) // 7)*2 + 1\n",
    "            elif (end_day_of_the_week == 'Saturday'):\n",
    "                weekends=((delta.days + 1) // 7)*2 + 2\n",
    "    return(int((delta.days + 1 - weekends)*8))\n",
    "\n",
    "def result():\n",
    "    start_date, end_date = input_date()\n",
    "    delta = delta_time(start_date, end_date)\n",
    "    if (delta.days < 0):\n",
    "        result()\n",
    "    else:\n",
    "        start_day_of_the_week, end_day_of_the_week=day_of_the_week(start_date, end_date)\n",
    "        return(calculating_hours(start_day_of_the_week, delta, end_day_of_the_week))\n",
    "result()"
   ]
  },
  {
   "cell_type": "markdown",
   "metadata": {
    "id": "Wfx-SEGPRJQK"
   },
   "source": [
    "---\n",
    "\n",
    "# Задание 3\n",
    "\n",
    "Вам нужно написать функцию, которая из входного объекта datetime будет выделять следующую информацию:\n",
    "\n",
    "1. Дата - в формате ***год-месяц-день***;\n",
    "2. Год;\n",
    "3. Месяц;\n",
    "4. День;\n",
    "5. Порядковый номер недели;\n",
    "6. День недели (например, понедельник);\n",
    "7. Время - в формате ***часы-минуты-секунды***;\n",
    "8. Часы;\n",
    "9. Минуты;\n",
    "10. Секунды;\n",
    "11. Количество секунд с начала дня.\n",
    "\n",
    "Эту функцию необходимо применить к таблице, в которой уже есть колонка с datetime'ами, и добавить в эту таблицу 11 новых столбцов, содержащих в себе значения из пп. 1-11. Очередность и название столбцов такие же, как в списке выше.\n",
    "\n",
    "Добиться результата можно различными способами.\n",
    "\n",
    "Для получения исходной информации необходимо выполнить код:"
   ]
  },
  {
   "cell_type": "code",
   "execution_count": 27,
   "metadata": {
    "colab": {
     "base_uri": "https://localhost:8080/",
     "height": 424
    },
    "executionInfo": {
     "elapsed": 1383,
     "status": "ok",
     "timestamp": 1647867874491,
     "user": {
      "displayName": "Иван Романов",
      "photoUrl": "https://lh3.googleusercontent.com/a/default-user=s64",
      "userId": "05119643280596747163"
     },
     "user_tz": -180
    },
    "id": "6LMUlNSURJQK",
    "outputId": "a1efe857-4678-4058-b955-0a9e6234c2f7"
   },
   "outputs": [],
   "source": [
    "# здесь и далее вам понадобится менять пути к файлам, поскольку в вашей системе вы их можете записать в другое место\n",
    "\n",
    "from datetime import datetime, date, time\n",
    "import pandas as pd\n",
    "\n",
    "path='/Users/olgakalinina/Downloads/'\n",
    "data=pd.read_excel(path+'Даты.xlsx')\n",
    "\n",
    "def time(data, nik_name):\n",
    "    data['Дата'] = pd.to_datetime(data['datetime']).dt.date\n",
    "    \n",
    "    data['Год']=data.datetime.apply(lambda x: x.split('-')[0])\n",
    "    data['Месяц']=data.datetime.apply(lambda x: x.split('-')[1])\n",
    "    data['День']=data.datetime.apply(lambda x: x.split('-')[2].split(' ')[0])\n",
    "    \n",
    "    data['Порядковый_номер_недели']=pd.to_datetime(data['datetime']).dt.isocalendar().week\n",
    "    data['День_недели']=pd.to_datetime(data['datetime']).dt.strftime(\"%A\")\n",
    "    arr1=['Monday', 'Tuesday', 'Wednesday', 'Thursday', 'Friday', 'Saturday', 'Sunday']\n",
    "    arr2=['понедельник', 'вторник', 'среда', 'четверг', 'пятница', 'суббота', 'воскресенье']\n",
    "    for i in range(0,7):\n",
    "        data['День_недели']=data['День_недели'].apply(lambda x: x.replace(arr1[i], arr2[i]))\n",
    "        \n",
    "    data['Время'] = pd.to_datetime(data['datetime']).dt.time\n",
    "    data['Часы']=data.datetime.apply(lambda x: x.split(' ')[-1].split(':')[-3])\n",
    "    data['Минуты']=data.datetime.apply(lambda x: x.split(' ')[-1].split(':')[-2])\n",
    "    data['Секунды']=data.datetime.apply(lambda x: x.split(' ')[-1].split(':')[-1])\n",
    "    \n",
    "    data['Кол-во_секунд_с_начала_дня']=(data['Часы'].apply(lambda x: int(x)))*60*60+(data['Минуты'].apply(lambda x: int(x)))*60+(data['Секунды'].apply(lambda x: int(x)))\n",
    "\n",
    "    data.to_excel('/Users/olgakalinina/Downloads/'+nik_name+'.xlsx', index=False)"
   ]
  },
  {
   "cell_type": "code",
   "execution_count": 28,
   "metadata": {},
   "outputs": [],
   "source": [
    "time(data, \"lschwart\")"
   ]
  }
 ],
 "metadata": {
  "colab": {
   "name": "d01_task.ipynb",
   "provenance": []
  },
  "kernelspec": {
   "display_name": "Python 3 (ipykernel)",
   "language": "python",
   "name": "python3"
  },
  "language_info": {
   "codemirror_mode": {
    "name": "ipython",
    "version": 3
   },
   "file_extension": ".py",
   "mimetype": "text/x-python",
   "name": "python",
   "nbconvert_exporter": "python",
   "pygments_lexer": "ipython3",
   "version": "3.7.0"
  }
 },
 "nbformat": 4,
 "nbformat_minor": 1
}
